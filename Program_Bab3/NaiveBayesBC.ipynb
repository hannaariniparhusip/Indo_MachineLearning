{
 "cells": [
  {
   "cell_type": "code",
   "execution_count": 1,
   "metadata": {},
   "outputs": [],
   "source": [
    "#https://github.com/lucko515/breast-cancer-classification/blob/master/NaiveBayesClassifier.ipynb\n",
    "#importing libs\n",
    "import matplotlib.pyplot as plt\n",
    "import numpy as np\n",
    "import pandas as pd"
   ]
  },
  {
   "cell_type": "code",
   "execution_count": 2,
   "metadata": {},
   "outputs": [
    {
     "data": {
      "image/png": "[encoded data removed]",
      "text/plain": [
       "<Figure size 432x288 with 1 Axes>"
      ]
     },
     "metadata": {
      "needs_background": "light"
     },
     "output_type": "display_data"
    },
    {
     "name": "stdout",
     "output_type": "stream",
     "text": [
      "1.4142135623730951\n"
     ]
    }
   ],
   "source": [
    "#Untuk mengajarkan bagaimana menghitung jarak antar data\n",
    "X = np.array([[1, 3],[4, 6],[3, 2],[7, 5],[7, 6]])\n",
    "for i in range(len(X)):\n",
    "    plt.scatter(X[i][1], X[i][0])\n",
    "\n",
    "plt.scatter(3, 4, color='red')\n",
    "circle = plt.Circle((3, 4), radius=2, alpha=0.4)\n",
    "plt.gca().add_patch(circle)\n",
    "plt.axis('scaled')\n",
    "plt.show()\n",
    "\n",
    "euclidianDis = np.sqrt((3-2)**2 + (4-3)**2)\n",
    "print(euclidianDis)"
   ]
  },
  {
   "cell_type": "code",
   "execution_count": 16,
   "metadata": {},
   "outputs": [],
   "source": [
    "class NaiveBayesClassifier(object):\n",
    "    def __init__(self):\n",
    "        pass\n",
    "    \n",
    "    #Input: X - faktor dalam data training\n",
    "    #       y - Label dalam data trainiing\n",
    "    def fit(self, X, y):\n",
    "        self.X_train = X\n",
    "        self.y_train = y\n",
    "        \n",
    "        self.no_of_classes = np.max(self.y_train) + 1\n",
    "     \n",
    "        \n",
    "      \n",
    "    # fungsi untuk menghitung semua titi/contoh data dalam radius yang dipenuhi\n",
    "    def euclidianDistance(self, Xtest, Xtrain):\n",
    "        return np.sqrt(np.sum(np.power((Xtest - Xtrain), 2)))\n",
    "    \n",
    "   \n",
    "    # Ini adalah fungsi utama untuk melakukan prediksi \n",
    "    # semua perhitungan menggunakan contoh data uji yang baru\n",
    "   # Terdapat 4 tahap untuk dilakukan\n",
    "   # 1. Hitung Probabilitas prior, contoh P(A) =banyaknya elemen dalam 1 klas/ total sampel \n",
    "    #.2 Hitung probabilitas Margin P(X) = banyaknya elemen dalam radius(lingkaran) / total sampel \n",
    "    # 3. Hitung likelihood (P(X|A) = banyaknya elemen dalam klas yang dihitung/ total sampel \n",
    "    # 4. Hitung probabilitas posterior =P(A|X) = (P(X|A) * P(A)) / P(X)\n",
    "    #Kerjakan semua tahap itu untuk semua klas dalam himpunan data\n",
    "    \n",
    "    # \n",
    "    #Input: X - himpunan data uji\n",
    "    #      \n",
    "    # radius = parameter yangmenyatakan seberapa besar lingkaran untuk data yang baru, default=2\n",
    "    \n",
    "    def predict(self, X, radius=0.4):   \n",
    "        pred = []\n",
    "        \n",
    "        #Creating list of numbers of elements for each class in trainset\n",
    "        members_of_class = []\n",
    "        for i in range(self.no_of_classes):\n",
    "            counter = 0\n",
    "            for j in range(len(self.y_train)):\n",
    "                if self.y_train[j] == i:\n",
    "                    counter += 1\n",
    "            members_of_class.append(counter)\n",
    "        \n",
    "        #Entering the process of prediction\n",
    "        for t in range(len(X)):\n",
    "            #Creating empty list for every class probability\n",
    "            prob_of_classes = []\n",
    "            #looping through each class in dataset\n",
    "            for i in range(self.no_of_classes):\n",
    "                \n",
    "                #1. step > Prior probability P(class) = no_of_elements_of_that_class/total_no_of_elements\n",
    "                prior_prob = members_of_class[i]/len(self.y_train)\n",
    "\n",
    "                #2. step > Margin probability P(X) = no_of_elements_in_radius/total_no_of_elements\n",
    "                #NOTE: In the same loop collecting infromation for 3. step as well\n",
    "                \n",
    "                inRadius_no = 0\n",
    "                #counter for how many points are from the current class in circle\n",
    "                inRadius_no_current_class = 0\n",
    "                \n",
    "                for j in range(len(self.X_train)):\n",
    "                    if self.euclidianDistance(X[t], self.X_train[j]) < radius:\n",
    "                        inRadius_no += 1\n",
    "                        if self.y_train[j] == i:\n",
    "                            inRadius_no_current_class += 1\n",
    "                \n",
    "                #Computing, margin probability\n",
    "                margin_prob = inRadius_no/len(self.X_train)\n",
    "                \n",
    "                #3. step > Likelihood P(X|current_class) = no_of_elements_in_circle_of_current_class/total_no_of_elements\n",
    "                likelihood = inRadius_no_current_class/len(self.X_train)\n",
    "                \n",
    "                 #4. step > Posterial Probability > formula from Bayes theorem: P(current_class | X) = (likelihood*prior_prob)/margin_prob\n",
    "                post_prob = (likelihood * prior_prob)/margin_prob\n",
    "                prob_of_classes.append(post_prob)\n",
    "            \n",
    "            #Getting index of the biggest element (class with the biggest probability)\n",
    "            pred.append(np.argmax(prob_of_classes))\n",
    "                \n",
    "        return pred"
   ]
  },
  {
   "cell_type": "code",
   "execution_count": 17,
   "metadata": {},
   "outputs": [],
   "source": [
    "def accuracy(y_tes, y_pred):\n",
    "    correct = 0\n",
    "    for i in range(len(y_pred)):\n",
    "        if(y_tes[i] == y_pred[i]):\n",
    "            correct += 1\n",
    "    return (correct/len(y_tes))*100"
   ]
  },
  {
   "cell_type": "code",
   "execution_count": 29,
   "metadata": {},
   "outputs": [],
   "source": [
    "def run():\n",
    "    # Importing the dataset\n",
    "    dataset = pd.read_csv('Social_Network_Ads.csv')\n",
    "    X = dataset.iloc[:, [2, 3]].values\n",
    "    y = dataset.iloc[:, 4].values\n",
    "        \n",
    "\n",
    "    # Splitting the dataset into the Training set and Test set\n",
    "   # from sklearn.model_selection import model_selection\n",
    "    from sklearn.model_selection import train_test_split\n",
    "    X_train, X_test, y_train, y_test = train_test_split(X, y, test_size = 0.25, random_state = 0)\n",
    "\n",
    "    # Feature Scaling\n",
    "    from sklearn.preprocessing import StandardScaler\n",
    "    sc = StandardScaler()\n",
    "    X_train = sc.fit_transform(X_train)\n",
    "    X_test = sc.transform(X_test)\n",
    "    \n",
    "    #Testing my Naive Bayes Classifier\n",
    "    NB = NaiveBayesClassifier()\n",
    "    NB.fit(X_train, y_train)\n",
    "    \n",
    "    y_pred = NB.predict(X_test, radius=0.4)\n",
    "    \n",
    "    #sklearn\n",
    "    from sklearn.naive_bayes import GaussianNB\n",
    "    NB_sk = GaussianNB()\n",
    "    NB_sk.fit(X_train, y_train)\n",
    "    \n",
    "    sk_pred = NB_sk.predict(X_test)\n",
    "     \n",
    "    \n",
    "    print(\"Accuracy for my Naive Bayes Classifier: \", accuracy(y_test, y_pred), \"%\")\n",
    "    print(\"Accuracy for sklearn Naive Bayes Classifier: \",accuracy(y_test, sk_pred), \"%\")"
   ]
  },
  {
   "cell_type": "code",
   "execution_count": 30,
   "metadata": {},
   "outputs": [
    {
     "name": "stdout",
     "output_type": "stream",
     "text": [
      "Accuracy for my Naive Bayes Classifier:  93.0 %\n",
      "Accuracy for sklearn Naive Bayes Classifier:  90.0 %\n"
     ]
    }
   ],
   "source": [
    "run()"
   ]
  },
  {
   "cell_type": "code",
   "execution_count": 32,
   "metadata": {},
   "outputs": [],
   "source": [
    "#Testing Breast Cancer dataset\n",
    "def breastCancerTest():\n",
    "    # Importing the dataset\n",
    "    dataset = pd.read_csv('breastCancer.csv')\n",
    "    dataset.replace('?', 0, inplace=True)\n",
    "    dataset = dataset.applymap(np.int64)\n",
    "    X = dataset.iloc[:, 1:-1].values    \n",
    "    y = dataset.iloc[:, -1].values\n",
    "    #This part is necessery beacuse of NUMBER of features part of algo\n",
    "    #and in this dataset classes are marked with 2 and 4\n",
    "    y_new = []\n",
    "    for i in range(len(y)):\n",
    "        if y[i] == 2:\n",
    "            y_new.append(0)\n",
    "        else:\n",
    "            y_new.append(1)\n",
    "    y_new = np.array(y_new)\n",
    "\n",
    "\n",
    "    # Splitting the dataset into the Training set and Test set\n",
    "    from sklearn.cross_validation import train_test_split\n",
    "    X_train, X_test, y_train, y_test = train_test_split(X, y, test_size = 0.25, random_state = 0)\n",
    "\n",
    "    \n",
    "    #Testing my Naive Bayes Classifier\n",
    "    NB = NaiveBayesClassifier()\n",
    "    NB.fit(X_train, y_train)\n",
    "    \n",
    "    y_pred = NB.predict(X_test, radius=8)\n",
    "    \n",
    "    #sklearn\n",
    "    from sklearn.naive_bayes import GaussianNB\n",
    "    NB_sk = GaussianNB()\n",
    "    NB_sk.fit(X_train, y_train)\n",
    "    \n",
    "    sk_pred = NB_sk.predict(X_test)\n",
    "     \n",
    "    \n",
    "    print(\"Accuracy for my Naive Bayes Classifier: \", accuracy(y_test, y_pred), \"%\")\n",
    "    print(\"Accuracy for sklearn Naive Bayes Classifier: \",accuracy(y_test, sk_pred), \"%\")"
   ]
  },
  {
   "cell_type": "code",
   "execution_count": 33,
   "metadata": {},
   "outputs": [
    {
     "ename": "FileNotFoundError",
     "evalue": "[Errno 2] File b'breastCancer.csv' does not exist: b'breastCancer.csv'",
     "output_type": "error",
     "traceback": [
      "\u001b[1;31m---------------------------------------------------------------------------\u001b[0m",
      "\u001b[1;31mFileNotFoundError\u001b[0m                         Traceback (most recent call last)",
      "\u001b[1;32m<ipython-input-33-be09c0be2e93>\u001b[0m in \u001b[0;36m<module>\u001b[1;34m\u001b[0m\n\u001b[1;32m----> 1\u001b[1;33m \u001b[0mbreastCancerTest\u001b[0m\u001b[1;33m(\u001b[0m\u001b[1;33m)\u001b[0m\u001b[1;33m\u001b[0m\u001b[1;33m\u001b[0m\u001b[0m\n\u001b[0m",
      "\u001b[1;32m<ipython-input-32-92f5c07a3e3c>\u001b[0m in \u001b[0;36mbreastCancerTest\u001b[1;34m()\u001b[0m\n\u001b[0;32m      2\u001b[0m \u001b[1;32mdef\u001b[0m \u001b[0mbreastCancerTest\u001b[0m\u001b[1;33m(\u001b[0m\u001b[1;33m)\u001b[0m\u001b[1;33m:\u001b[0m\u001b[1;33m\u001b[0m\u001b[1;33m\u001b[0m\u001b[0m\n\u001b[0;32m      3\u001b[0m     \u001b[1;31m# Importing the dataset\u001b[0m\u001b[1;33m\u001b[0m\u001b[1;33m\u001b[0m\u001b[1;33m\u001b[0m\u001b[0m\n\u001b[1;32m----> 4\u001b[1;33m     \u001b[0mdataset\u001b[0m \u001b[1;33m=\u001b[0m \u001b[0mpd\u001b[0m\u001b[1;33m.\u001b[0m\u001b[0mread_csv\u001b[0m\u001b[1;33m(\u001b[0m\u001b[1;34m'breastCancer.csv'\u001b[0m\u001b[1;33m)\u001b[0m\u001b[1;33m\u001b[0m\u001b[1;33m\u001b[0m\u001b[0m\n\u001b[0m\u001b[0;32m      5\u001b[0m     \u001b[0mdataset\u001b[0m\u001b[1;33m.\u001b[0m\u001b[0mreplace\u001b[0m\u001b[1;33m(\u001b[0m\u001b[1;34m'?'\u001b[0m\u001b[1;33m,\u001b[0m \u001b[1;36m0\u001b[0m\u001b[1;33m,\u001b[0m \u001b[0minplace\u001b[0m\u001b[1;33m=\u001b[0m\u001b[1;32mTrue\u001b[0m\u001b[1;33m)\u001b[0m\u001b[1;33m\u001b[0m\u001b[1;33m\u001b[0m\u001b[0m\n\u001b[0;32m      6\u001b[0m     \u001b[0mdataset\u001b[0m \u001b[1;33m=\u001b[0m \u001b[0mdataset\u001b[0m\u001b[1;33m.\u001b[0m\u001b[0mapplymap\u001b[0m\u001b[1;33m(\u001b[0m\u001b[0mnp\u001b[0m\u001b[1;33m.\u001b[0m\u001b[0mint64\u001b[0m\u001b[1;33m)\u001b[0m\u001b[1;33m\u001b[0m\u001b[1;33m\u001b[0m\u001b[0m\n",
      "\u001b[1;32mC:\\ProgramData\\Anaconda3\\lib\\site-packages\\pandas\\io\\parsers.py\u001b[0m in \u001b[0;36mparser_f\u001b[1;34m(filepath_or_buffer, sep, delimiter, header, names, index_col, usecols, squeeze, prefix, mangle_dupe_cols, dtype, engine, converters, true_values, false_values, skipinitialspace, skiprows, skipfooter, nrows, na_values, keep_default_na, na_filter, verbose, skip_blank_lines, parse_dates, infer_datetime_format, keep_date_col, date_parser, dayfirst, cache_dates, iterator, chunksize, compression, thousands, decimal, lineterminator, quotechar, quoting, doublequote, escapechar, comment, encoding, dialect, error_bad_lines, warn_bad_lines, delim_whitespace, low_memory, memory_map, float_precision)\u001b[0m\n\u001b[0;32m    683\u001b[0m         )\n\u001b[0;32m    684\u001b[0m \u001b[1;33m\u001b[0m\u001b[0m\n\u001b[1;32m--> 685\u001b[1;33m         \u001b[1;32mreturn\u001b[0m \u001b[0m_read\u001b[0m\u001b[1;33m(\u001b[0m\u001b[0mfilepath_or_buffer\u001b[0m\u001b[1;33m,\u001b[0m \u001b[0mkwds\u001b[0m\u001b[1;33m)\u001b[0m\u001b[1;33m\u001b[0m\u001b[1;33m\u001b[0m\u001b[0m\n\u001b[0m\u001b[0;32m    686\u001b[0m \u001b[1;33m\u001b[0m\u001b[0m\n\u001b[0;32m    687\u001b[0m     \u001b[0mparser_f\u001b[0m\u001b[1;33m.\u001b[0m\u001b[0m__name__\u001b[0m \u001b[1;33m=\u001b[0m \u001b[0mname\u001b[0m\u001b[1;33m\u001b[0m\u001b[1;33m\u001b[0m\u001b[0m\n",
      "\u001b[1;32mC:\\ProgramData\\Anaconda3\\lib\\site-packages\\pandas\\io\\parsers.py\u001b[0m in \u001b[0;36m_read\u001b[1;34m(filepath_or_buffer, kwds)\u001b[0m\n\u001b[0;32m    455\u001b[0m \u001b[1;33m\u001b[0m\u001b[0m\n\u001b[0;32m    456\u001b[0m     \u001b[1;31m# Create the parser.\u001b[0m\u001b[1;33m\u001b[0m\u001b[1;33m\u001b[0m\u001b[1;33m\u001b[0m\u001b[0m\n\u001b[1;32m--> 457\u001b[1;33m     \u001b[0mparser\u001b[0m \u001b[1;33m=\u001b[0m \u001b[0mTextFileReader\u001b[0m\u001b[1;33m(\u001b[0m\u001b[0mfp_or_buf\u001b[0m\u001b[1;33m,\u001b[0m \u001b[1;33m**\u001b[0m\u001b[0mkwds\u001b[0m\u001b[1;33m)\u001b[0m\u001b[1;33m\u001b[0m\u001b[1;33m\u001b[0m\u001b[0m\n\u001b[0m\u001b[0;32m    458\u001b[0m \u001b[1;33m\u001b[0m\u001b[0m\n\u001b[0;32m    459\u001b[0m     \u001b[1;32mif\u001b[0m \u001b[0mchunksize\u001b[0m \u001b[1;32mor\u001b[0m \u001b[0miterator\u001b[0m\u001b[1;33m:\u001b[0m\u001b[1;33m\u001b[0m\u001b[1;33m\u001b[0m\u001b[0m\n",
      "\u001b[1;32mC:\\ProgramData\\Anaconda3\\lib\\site-packages\\pandas\\io\\parsers.py\u001b[0m in \u001b[0;36m__init__\u001b[1;34m(self, f, engine, **kwds)\u001b[0m\n\u001b[0;32m    893\u001b[0m             \u001b[0mself\u001b[0m\u001b[1;33m.\u001b[0m\u001b[0moptions\u001b[0m\u001b[1;33m[\u001b[0m\u001b[1;34m\"has_index_names\"\u001b[0m\u001b[1;33m]\u001b[0m \u001b[1;33m=\u001b[0m \u001b[0mkwds\u001b[0m\u001b[1;33m[\u001b[0m\u001b[1;34m\"has_index_names\"\u001b[0m\u001b[1;33m]\u001b[0m\u001b[1;33m\u001b[0m\u001b[1;33m\u001b[0m\u001b[0m\n\u001b[0;32m    894\u001b[0m \u001b[1;33m\u001b[0m\u001b[0m\n\u001b[1;32m--> 895\u001b[1;33m         \u001b[0mself\u001b[0m\u001b[1;33m.\u001b[0m\u001b[0m_make_engine\u001b[0m\u001b[1;33m(\u001b[0m\u001b[0mself\u001b[0m\u001b[1;33m.\u001b[0m\u001b[0mengine\u001b[0m\u001b[1;33m)\u001b[0m\u001b[1;33m\u001b[0m\u001b[1;33m\u001b[0m\u001b[0m\n\u001b[0m\u001b[0;32m    896\u001b[0m \u001b[1;33m\u001b[0m\u001b[0m\n\u001b[0;32m    897\u001b[0m     \u001b[1;32mdef\u001b[0m \u001b[0mclose\u001b[0m\u001b[1;33m(\u001b[0m\u001b[0mself\u001b[0m\u001b[1;33m)\u001b[0m\u001b[1;33m:\u001b[0m\u001b[1;33m\u001b[0m\u001b[1;33m\u001b[0m\u001b[0m\n",
      "\u001b[1;32mC:\\ProgramData\\Anaconda3\\lib\\site-packages\\pandas\\io\\parsers.py\u001b[0m in \u001b[0;36m_make_engine\u001b[1;34m(self, engine)\u001b[0m\n\u001b[0;32m   1133\u001b[0m     \u001b[1;32mdef\u001b[0m \u001b[0m_make_engine\u001b[0m\u001b[1;33m(\u001b[0m\u001b[0mself\u001b[0m\u001b[1;33m,\u001b[0m \u001b[0mengine\u001b[0m\u001b[1;33m=\u001b[0m\u001b[1;34m\"c\"\u001b[0m\u001b[1;33m)\u001b[0m\u001b[1;33m:\u001b[0m\u001b[1;33m\u001b[0m\u001b[1;33m\u001b[0m\u001b[0m\n\u001b[0;32m   1134\u001b[0m         \u001b[1;32mif\u001b[0m \u001b[0mengine\u001b[0m \u001b[1;33m==\u001b[0m \u001b[1;34m\"c\"\u001b[0m\u001b[1;33m:\u001b[0m\u001b[1;33m\u001b[0m\u001b[1;33m\u001b[0m\u001b[0m\n\u001b[1;32m-> 1135\u001b[1;33m             \u001b[0mself\u001b[0m\u001b[1;33m.\u001b[0m\u001b[0m_engine\u001b[0m \u001b[1;33m=\u001b[0m \u001b[0mCParserWrapper\u001b[0m\u001b[1;33m(\u001b[0m\u001b[0mself\u001b[0m\u001b[1;33m.\u001b[0m\u001b[0mf\u001b[0m\u001b[1;33m,\u001b[0m \u001b[1;33m**\u001b[0m\u001b[0mself\u001b[0m\u001b[1;33m.\u001b[0m\u001b[0moptions\u001b[0m\u001b[1;33m)\u001b[0m\u001b[1;33m\u001b[0m\u001b[1;33m\u001b[0m\u001b[0m\n\u001b[0m\u001b[0;32m   1136\u001b[0m         \u001b[1;32melse\u001b[0m\u001b[1;33m:\u001b[0m\u001b[1;33m\u001b[0m\u001b[1;33m\u001b[0m\u001b[0m\n\u001b[0;32m   1137\u001b[0m             \u001b[1;32mif\u001b[0m \u001b[0mengine\u001b[0m \u001b[1;33m==\u001b[0m \u001b[1;34m\"python\"\u001b[0m\u001b[1;33m:\u001b[0m\u001b[1;33m\u001b[0m\u001b[1;33m\u001b[0m\u001b[0m\n",
      "\u001b[1;32mC:\\ProgramData\\Anaconda3\\lib\\site-packages\\pandas\\io\\parsers.py\u001b[0m in \u001b[0;36m__init__\u001b[1;34m(self, src, **kwds)\u001b[0m\n\u001b[0;32m   1915\u001b[0m         \u001b[0mkwds\u001b[0m\u001b[1;33m[\u001b[0m\u001b[1;34m\"usecols\"\u001b[0m\u001b[1;33m]\u001b[0m \u001b[1;33m=\u001b[0m \u001b[0mself\u001b[0m\u001b[1;33m.\u001b[0m\u001b[0musecols\u001b[0m\u001b[1;33m\u001b[0m\u001b[1;33m\u001b[0m\u001b[0m\n\u001b[0;32m   1916\u001b[0m \u001b[1;33m\u001b[0m\u001b[0m\n\u001b[1;32m-> 1917\u001b[1;33m         \u001b[0mself\u001b[0m\u001b[1;33m.\u001b[0m\u001b[0m_reader\u001b[0m \u001b[1;33m=\u001b[0m \u001b[0mparsers\u001b[0m\u001b[1;33m.\u001b[0m\u001b[0mTextReader\u001b[0m\u001b[1;33m(\u001b[0m\u001b[0msrc\u001b[0m\u001b[1;33m,\u001b[0m \u001b[1;33m**\u001b[0m\u001b[0mkwds\u001b[0m\u001b[1;33m)\u001b[0m\u001b[1;33m\u001b[0m\u001b[1;33m\u001b[0m\u001b[0m\n\u001b[0m\u001b[0;32m   1918\u001b[0m         \u001b[0mself\u001b[0m\u001b[1;33m.\u001b[0m\u001b[0munnamed_cols\u001b[0m \u001b[1;33m=\u001b[0m \u001b[0mself\u001b[0m\u001b[1;33m.\u001b[0m\u001b[0m_reader\u001b[0m\u001b[1;33m.\u001b[0m\u001b[0munnamed_cols\u001b[0m\u001b[1;33m\u001b[0m\u001b[1;33m\u001b[0m\u001b[0m\n\u001b[0;32m   1919\u001b[0m \u001b[1;33m\u001b[0m\u001b[0m\n",
      "\u001b[1;32mpandas\\_libs\\parsers.pyx\u001b[0m in \u001b[0;36mpandas._libs.parsers.TextReader.__cinit__\u001b[1;34m()\u001b[0m\n",
      "\u001b[1;32mpandas\\_libs\\parsers.pyx\u001b[0m in \u001b[0;36mpandas._libs.parsers.TextReader._setup_parser_source\u001b[1;34m()\u001b[0m\n",
      "\u001b[1;31mFileNotFoundError\u001b[0m: [Errno 2] File b'breastCancer.csv' does not exist: b'breastCancer.csv'"
     ]
    }
   ],
   "source": [
    "breastCancerTest()"
   ]
  },
  {
   "cell_type": "code",
   "execution_count": null,
   "metadata": {},
   "outputs": [],
   "source": []
  }
 ],
 "metadata": {
  "kernelspec": {
   "display_name": "Python 3",
   "language": "python",
   "name": "python3"
  },
  "language_info": {
   "codemirror_mode": {
    "name": "ipython",
    "version": 3
   },
   "file_extension": ".py",
   "mimetype": "text/x-python",
   "name": "python",
   "nbconvert_exporter": "python",
   "pygments_lexer": "ipython3",
   "version": "3.7.4"
  }
 },
 "nbformat": 4,
 "nbformat_minor": 2
}
